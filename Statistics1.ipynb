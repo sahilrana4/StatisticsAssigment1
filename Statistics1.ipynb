{
  "nbformat": 4,
  "nbformat_minor": 0,
  "metadata": {
    "colab": {
      "provenance": []
    },
    "kernelspec": {
      "name": "python3",
      "display_name": "Python 3"
    },
    "language_info": {
      "name": "python"
    }
  },
  "cells": [
    {
      "cell_type": "code",
      "execution_count": null,
      "metadata": {
        "id": "u9j_QTlA7mKn"
      },
      "outputs": [],
      "source": []
    },
    {
      "cell_type": "markdown",
      "source": [
        "**Statistics Basics**\n",
        "\n",
        "1. What is the difference between descriptive statistics and inferential statistics? Explain with examples.\n",
        "-  **Descriptive Statistics:**\n",
        "\n",
        "      i. Descriptive statistics summarizes and organizes data so it can be easily understood.\n",
        "\n",
        "      ii. It helps in organizing,analyzing, and to present data in a neaningful manner.\n",
        "\n",
        "      iii. It can be achieved with the help of charts, graphs,tables,eatc...\n",
        "  \n",
        "-  **inferential statistics:**\n",
        "\n",
        "      i. Inferential statistics uses a sample of data to make conclusions, predictions, or generalizations about a larger population.\n",
        "\n",
        "      ii. It allows us to compare data, and make hypotheses and predictions.\n",
        "      \n",
        "      iii.  It can be achieved bt probability."
      ],
      "metadata": {
        "id": "BNCn1spnA64V"
      }
    },
    {
      "cell_type": "markdown",
      "source": [
        "\n",
        "\n",
        "2. What is sampling in statistics? Explain the differences between random and stratified sampling.\n",
        "\n",
        "Sampling: The process of selecting a subset of data from a population to make inferences about the whole population.\n",
        "\n",
        "-   Random Sampling: Every individual has an equal chance of being selected.\n",
        "-    E.g., picking 50 students randomly from a school of 1000.\n",
        "-    Stratified Sampling: The population is divided into subgroups (strata) and samples are taken proportionally from each.\n",
        "-    E.g., Dividing students by grade level and selecting samples proportionally from each grade.\n",
        "\n",
        "3. Define mean, median, and mode. Explain why these measures of central tendency are important.\n",
        "\n",
        "-  Mean: Average value → Sum of all values ÷ Number of values.\n",
        "-  Median: Middle value when data is sorted.\n",
        "-  Mode: Most frequently occurring value.\n",
        "\n",
        "Importance: They help summarize data into a single value, providing insights into the \"center\" of a dataset, useful for comparisons and decision-making.\n",
        "\n",
        "4.  Explain skewness and kurtosis. What does a positive skew imply about the data?\n",
        "\n",
        "-  Skewness: A Measure of asymmetry of the data distribution.\n",
        "\n",
        "Positive skew → Tail on the right (e.g., income distribution).\n",
        "\n",
        "Negative skew → Tail on the left.\n",
        "\n",
        "- Kurtosis: Measure of the \"peakedness\" or flatness of a distribution.\n",
        "\n",
        "High kurtosis → Heavy tails, more outliers.\n",
        "\n",
        "Low kurtosis → Light tails.\n",
        "\n",
        "- Positive skew means most values are clustered on the left, with a few very high values pulling the tail to the right."
      ],
      "metadata": {
        "id": "szHYKbni7rXt"
      }
    },
    {
      "cell_type": "markdown",
      "source": [
        "5. Implement a Python program to compute the mean, median, and mode of a given list of numbers."
      ],
      "metadata": {
        "id": "RNHfTcbY9FKA"
      }
    },
    {
      "cell_type": "code",
      "source": [
        "import statistics as stats\n",
        "numbers = [12, 15, 12, 18, 19, 12, 20, 22, 19, 19, 24, 24, 24, 26, 28]\n",
        "mean_val = stats.mean(numbers)\n",
        "median_val = stats.median(numbers)\n",
        "mode_val = stats.mode(numbers)\n",
        "print(\"Mean:\", mean_val)\n",
        "print(\"Median:\", median_val)\n",
        "print(\"Mode:\", mode_val)"
      ],
      "metadata": {
        "colab": {
          "base_uri": "https://localhost:8080/"
        },
        "id": "fIiJHJ639JEi",
        "outputId": "9ef38da9-bf99-4613-ff51-9451a79138fb"
      },
      "execution_count": 5,
      "outputs": [
        {
          "output_type": "stream",
          "name": "stdout",
          "text": [
            "Mean: 19.6\n",
            "Median: 19\n",
            "Mode: 12\n"
          ]
        }
      ]
    },
    {
      "cell_type": "markdown",
      "source": [
        "6. Compute the covariance and correlation coefficient between the following\n",
        "two datasets provided as lists in Python:\n",
        "\n",
        "list_x = [10, 20, 30, 40, 50]\n",
        "\n",
        "list_y = [15, 25, 35, 45, 60]\n",
        "\n",
        "(Include your Python code and output in the code box below.)"
      ],
      "metadata": {
        "id": "nJe5qDTk9OpD"
      }
    },
    {
      "cell_type": "code",
      "source": [
        "import numpy as np\n",
        "list_x = [10, 20, 30, 40, 50]\n",
        "list_y = [15, 25, 35, 45, 60]\n",
        "cov_matrix = np.cov(list_x, list_y, bias=True)\n",
        "correlation = np.corrcoef(list_x, list_y)\n",
        "print(\"Covariance Matrix:\\n\", cov_matrix)\n",
        "print(\"Correlation Coefficient:\", correlation[0,1])"
      ],
      "metadata": {
        "colab": {
          "base_uri": "https://localhost:8080/"
        },
        "id": "Mhkvzdo29Uww",
        "outputId": "68d11c9f-dde2-4bcd-dca8-b06567e5201f"
      },
      "execution_count": 4,
      "outputs": [
        {
          "output_type": "stream",
          "name": "stdout",
          "text": [
            "Covariance Matrix:\n",
            " [[200. 220.]\n",
            " [220. 244.]]\n",
            "Correlation Coefficient: 0.995893206467704\n"
          ]
        }
      ]
    },
    {
      "cell_type": "markdown",
      "source": [
        "7. Write a Python script to draw a boxplot for the following numeric list and identify its outliers. Explain the result:\n",
        "data = [12, 14, 14, 15, 18, 19, 19, 21, 22, 22, 23, 23, 24, 26, 29, 35]\n",
        "\n",
        "(Include your Python code and output in the code box below.)"
      ],
      "metadata": {
        "id": "li5IXwo99ZU_"
      }
    },
    {
      "cell_type": "code",
      "source": [
        "import matplotlib.pyplot as plt\n",
        "data = [12, 14, 14, 15, 18, 19, 19, 21, 22, 22, 23, 23, 24, 26, 29, 35]\n",
        "plt.boxplot(data)\n",
        "plt.title(\"Boxplot of Data\")\n",
        "plt.show()"
      ],
      "metadata": {
        "colab": {
          "base_uri": "https://localhost:8080/",
          "height": 452
        },
        "id": "YXCtx6aZ9dyf",
        "outputId": "86b03b26-2e25-40d4-e848-c208fcae7f08"
      },
      "execution_count": 3,
      "outputs": [
        {
          "output_type": "display_data",
          "data": {
            "text/plain": [
              "<Figure size 640x480 with 1 Axes>"
            ],
            "image/png": "[encoded data removed]"
          },
          "metadata": {}
        }
      ]
    },
    {
      "cell_type": "markdown",
      "source": [
        "8. You are working as a data analyst in an e-commerce company. The marketing team wants to know if there is a relationship between advertising spend and daily sales.\n",
        "\n",
        "● Explain how you would use covariance and correlation to explore this relationship.\n",
        "\n",
        "● Write Python code to compute the correlation between the two lists:\n",
        "\n",
        "advertising_spend = [200, 250, 300, 400, 500]\n",
        "\n",
        "daily_sales = [2200, 2450, 2750, 3200, 4000]"
      ],
      "metadata": {
        "id": "gbYaGQUJ9jy5"
      }
    },
    {
      "cell_type": "code",
      "source": [
        "import numpy as np\n",
        "advertising_spend = [200, 250, 300, 400, 500]\n",
        "daily_sales = [2200, 2450, 2750, 3200, 4000]\n",
        "corr = np.corrcoef(advertising_spend, daily_sales)[0,1]\n",
        "print(\"Correlation Coefficient:\", corr)"
      ],
      "metadata": {
        "colab": {
          "base_uri": "https://localhost:8080/"
        },
        "id": "mSfROXUq9leh",
        "outputId": "7e5db67a-f117-4ae2-c92a-ed75016b426b"
      },
      "execution_count": 2,
      "outputs": [
        {
          "output_type": "stream",
          "name": "stdout",
          "text": [
            "Correlation Coefficient: 0.9935824101653329\n"
          ]
        }
      ]
    },
    {
      "cell_type": "markdown",
      "source": [
        "Interpretation: A very strong positive correlation exists – higher ad spend increases daily sales"
      ],
      "metadata": {
        "id": "KnuLubZX-IZA"
      }
    },
    {
      "cell_type": "markdown",
      "source": [
        "9. Your team has collected customer satisfaction survey data on a scale of 1-10 and wants to understand its distribution before launching a new product.\n",
        "● Explain which summary statistics and visualizations (e.g. mean, standard deviation, histogram) you’d use.\n",
        "\n",
        "● Write Python code to create a histogram using Matplotlib for the survey data:\n",
        "\n",
        "survey_scores = [7, 8, 5, 9, 6, 7, 8, 9, 10, 4, 7, 6, 9, 8, 7]"
      ],
      "metadata": {
        "id": "0u2mLduy9tbD"
      }
    },
    {
      "cell_type": "code",
      "source": [
        "import matplotlib.pyplot as plt\n",
        "survey_scores = [7, 8, 5, 9, 6, 7, 8, 9, 10, 4, 7, 6, 9, 8, 7]\n",
        "plt.hist(survey_scores, bins=6, color='skyblue', edgecolor='black')\n",
        "plt.title(\"Survey Scores Distribution\")\n",
        "plt.xlabel(\"Scores\")\n",
        "plt.ylabel(\"Frequency\")\n",
        "plt.show()"
      ],
      "metadata": {
        "colab": {
          "base_uri": "https://localhost:8080/",
          "height": 472
        },
        "id": "QzP_5KFW9xR4",
        "outputId": "2ea02ece-0278-4d25-c05d-4284c50e9e31"
      },
      "execution_count": 1,
      "outputs": [
        {
          "output_type": "display_data",
          "data": {
            "text/plain": [
              "<Figure size 640x480 with 1 Axes>"
            ],
            "image/png": "[encoded data removed]"
          },
          "metadata": {}
        }
      ]
    },
    {
      "cell_type": "code",
      "source": [],
      "metadata": {
        "id": "pbrUtpgE-AL3"
      },
      "execution_count": null,
      "outputs": []
    }
  ]
}